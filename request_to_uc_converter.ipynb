{
 "cells": [
  {
   "cell_type": "code",
   "execution_count": null,
   "id": "9c95c86f-2b0a-4592-a68b-452bf8e6acc2",
   "metadata": {},
   "outputs": [],
   "source": [
    "import pandas as pd\n",
    "import numpy as np"
   ]
  },
  {
   "cell_type": "markdown",
   "id": "2e44e948-9a53-4345-b8cf-ce8f0ed9a053",
   "metadata": {},
   "source": [
    "# Блокнот для преобразования базовых запросов в пользовательские сценарии.\n",
    "\n",
    "Необходим, если статистика была собрана по endpoint`ам, а пользовательские сценарии создавались отдельно. \n",
    "Рассчитывает количество пользовательских сценариев, исходя из статистики по базовым запросам.\n",
    "\n",
    "В `uc_data.csv` дожна находиться таблица следующего формата:\n",
    "\n",
    "- UC — Пользовательский сценарий.\n",
    "- КЗ — Сколько раз вызвана запрос при выполнении пользовательского сценария(UC)\n",
    "- Запрос — endpoint, например: `GET_/app/info`.\n",
    "\n",
    "|name      |UC01                    |UC02|UC*n*|\n",
    "|:---------|:-----------------------|:---|:----|\n",
    "|Запрос 1  |Количество запросов (КЗ)|КЗ  |КЗ   |\n",
    "|Запрос 2  |КЗ                      |КЗ  |КЗ   |\n",
    "|Запрос *n*|КЗ                      |КЗ  |КЗ   |\n",
    "\n",
    "Файл `load_profile.csv` берется из предыдущего блокнота."
   ]
  },
  {
   "cell_type": "markdown",
   "id": "8960d129-5e43-4b46-bf91-aa66b79ba86d",
   "metadata": {},
   "source": [
    "## Читаем файлы данных:"
   ]
  },
  {
   "cell_type": "code",
   "execution_count": null,
   "id": "74d7333e-72ab-4699-938d-5ea55012f0fa",
   "metadata": {},
   "outputs": [],
   "source": [
    "uc_data = pd.read_csv(\"uc_data.csv\", sep=\",\")\n",
    "count_data = pd.read_csv(\"load_profile.csv\", sep=\",\")"
   ]
  },
  {
   "cell_type": "markdown",
   "id": "25e2cebb-f924-4d77-904b-d33d9d7d159f",
   "metadata": {},
   "source": [
    "## Объединяем в один DataFrame:"
   ]
  },
  {
   "cell_type": "code",
   "execution_count": null,
   "id": "4cb6effa-6629-40d1-a352-85f294fabbe8",
   "metadata": {},
   "outputs": [],
   "source": [
    "result_data = uc_data.set_index(\"name\").join(count_data[[\"name\", \"count\"]].set_index(\"name\"))\n",
    "result_data"
   ]
  },
  {
   "cell_type": "markdown",
   "id": "f2ae43df-832f-41b9-93a2-445ac899b10f",
   "metadata": {},
   "source": [
    "## Удаляем дубликаты:"
   ]
  },
  {
   "cell_type": "code",
   "execution_count": null,
   "id": "56e2fa02-4a0d-4f70-a3fa-dbb9521cddb8",
   "metadata": {},
   "outputs": [],
   "source": [
    "data_without_duplicates = result_data.drop_duplicates(subset=result_data.columns.to_list()[:-1], keep=\"first\")\n",
    "data_without_duplicates"
   ]
  },
  {
   "cell_type": "markdown",
   "id": "7859020d-38d2-4c3c-99c8-e7f35348e605",
   "metadata": {},
   "source": [
    "## Сохраняем DataFrame для вычисления обратной матрицы:"
   ]
  },
  {
   "cell_type": "code",
   "execution_count": null,
   "id": "c3ad2fc0-0b21-41a6-a262-d57c4149daaf",
   "metadata": {},
   "outputs": [],
   "source": [
    "sub_data = data_without_duplicates.iloc[:, :-1]\n",
    "sub_data"
   ]
  },
  {
   "cell_type": "markdown",
   "id": "c28c3cbe-402e-4ab3-944a-11f85e9ef23d",
   "metadata": {},
   "source": [
    "## Вычисляем обратную матрицу:"
   ]
  },
  {
   "cell_type": "code",
   "execution_count": null,
   "id": "c73a8e29-fa2c-49cf-b48b-aef865b12b32",
   "metadata": {},
   "outputs": [],
   "source": [
    "sub_data_inv = pd.DataFrame(np.linalg.pinv(sub_data.values), sub_data.columns, sub_data.index)\n",
    "sub_data_inv"
   ]
  },
  {
   "cell_type": "markdown",
   "id": "3d670feb-c4ce-455f-99e1-9192f8173824",
   "metadata": {},
   "source": [
    "## Вычисляем количество пользовательских сценариев:\n",
    "Может возникнуть ситуация, когда количество пользовательских сценариев будет отрицательным. Это означает, что запросы не удалось разбить по пользовательским сценарям.\n",
    "Чтобы решить данную проблему, можно изменить количество пользовательских сценариев в большую или меньшую сторону."
   ]
  },
  {
   "cell_type": "code",
   "execution_count": null,
   "id": "09360dc8-b17b-4a6b-b3bd-1c83233ef275",
   "metadata": {},
   "outputs": [],
   "source": [
    "result = sub_data_inv.dot(data_without_duplicates.iloc[:, -1:])\n",
    "result"
   ]
  },
  {
   "cell_type": "markdown",
   "id": "4af1cd07-136e-49fa-9ea1-c555b352f948",
   "metadata": {},
   "source": [
    "## Отбрасываем цифры после запятой, если это необходимо:"
   ]
  },
  {
   "cell_type": "code",
   "execution_count": null,
   "id": "1ee95cae-c6d5-4fd7-bab7-926096deecb4",
   "metadata": {},
   "outputs": [],
   "source": [
    "result[\"count\"] = result[\"count\"].astype(\"int32\")\n",
    "result"
   ]
  }
 ],
 "metadata": {
  "kernelspec": {
   "display_name": "Python 3 (ipykernel)",
   "language": "python",
   "name": "python3"
  },
  "language_info": {
   "codemirror_mode": {
    "name": "ipython",
    "version": 3
   },
   "file_extension": ".py",
   "mimetype": "text/x-python",
   "name": "python",
   "nbconvert_exporter": "python",
   "pygments_lexer": "ipython3",
   "version": "3.12.7"
  }
 },
 "nbformat": 4,
 "nbformat_minor": 5
}
