{
 "cells": [
  {
   "cell_type": "code",
   "execution_count": null,
   "metadata": {},
   "outputs": [],
   "source": [
    "import pandas as pd\n",
    "import matplotlib.pyplot as plt\n",
    "import seaborn as sns"
   ]
  },
  {
   "cell_type": "code",
   "execution_count": null,
   "metadata": {},
   "outputs": [],
   "source": [
    "plt.rcParams[\"figure.figsize\"] = [12,8] # Размер графиков"
   ]
  },
  {
   "cell_type": "markdown",
   "metadata": {},
   "source": [
    "# Добавляем данные:\n",
    "## Важно:\n",
    "В `data.csv` должны быть следующие столбцы:\n",
    "1) Название сценария / запроса.\n",
    "2) Количество выполнений в час.\n",
    "3) Дата.\n",
    "4) Час от 0 до 23.\n",
    "\n",
    "У столбцов обязательно должно быть имя. Оно может быть любым."
   ]
  },
  {
   "cell_type": "code",
   "execution_count": null,
   "metadata": {},
   "outputs": [],
   "source": [
    "data = pd.read_csv(\"data.csv\", sep=\",\")"
   ]
  },
  {
   "cell_type": "markdown",
   "metadata": {},
   "source": [
    "## Переименовываем колонки для дальнейшей работы:"
   ]
  },
  {
   "cell_type": "code",
   "execution_count": null,
   "metadata": {},
   "outputs": [],
   "source": [
    "data.columns.values[0] = \"name\"\n",
    "data.columns.values[1] = \"count\"\n",
    "data.columns.values[2] = \"date\"\n",
    "data.columns.values[3] = \"hour\"\n",
    "data.head()"
   ]
  },
  {
   "cell_type": "markdown",
   "metadata": {},
   "source": [
    "## Группируем данные:"
   ]
  },
  {
   "cell_type": "code",
   "execution_count": null,
   "metadata": {},
   "outputs": [],
   "source": [
    "data_by_date = data[[\"date\", \"count\", \"hour\"]].groupby([\"date\", \"hour\"]).sum()\n",
    "data_by_date = data_by_date.reset_index()\n",
    "data_by_date.head()"
   ]
  },
  {
   "cell_type": "markdown",
   "metadata": {},
   "source": [
    "## Определение типичной нагрузки:"
   ]
  },
  {
   "cell_type": "markdown",
   "metadata": {},
   "source": [
    "### Оцениваем текущее распределение нагрузки по датам:"
   ]
  },
  {
   "cell_type": "code",
   "execution_count": null,
   "metadata": {},
   "outputs": [],
   "source": [
    "def generate_line_plot(df: pd.DataFrame) -> None:\n",
    "    \"\"\"Функция для построения линейного графика.\"\"\"\n",
    "    sns.lineplot(data=df, x=\"hour\", y=\"count\", hue=\"date\")\n",
    "    sns.set_style(\"darkgrid\") # Добавляем сетку\n",
    "    plt.xlabel(\"Часы\")\n",
    "    plt.ylabel(\"Количество\")\n",
    "    plt.xticks(range(24)) # Добавляем деления для оси x\n",
    "    plt.legend(\n",
    "        loc=\"upper center\",\n",
    "        bbox_to_anchor=(0.5, -0.1),\n",
    "        ncol=6 # Количество столбцов в легенде\n",
    "    )\n",
    "    plt.tight_layout() # Автоотступы в легенде\n",
    "    plt.show()"
   ]
  },
  {
   "cell_type": "code",
   "execution_count": null,
   "metadata": {},
   "outputs": [],
   "source": [
    "generate_line_plot(data_by_date)"
   ]
  },
  {
   "cell_type": "markdown",
   "metadata": {},
   "source": [
    "## Фильтруем данные по часам и количеству:\n",
    "Ниже описана функция для фильтрации данных. Ее можно использовать для дополнительной фильтрации."
   ]
  },
  {
   "cell_type": "code",
   "execution_count": null,
   "metadata": {},
   "outputs": [],
   "source": [
    "def data_filter_by_line(df: pd.DataFrame, hour_from: int, hour_to: int, count_from: int, count_to: int, dates_by_filter: list[str] = None) -> pd.DataFrame:\n",
    "    \"\"\"\n",
    "    Фунция для фильтрации данных ждя построения линейного графика.\n",
    "\n",
    "    :param df: Исходный датафрейм.\n",
    "    :param hour_from: начало периода получения данных (часы).\n",
    "    :param hour_to: Конец периода получения данных (часы).\n",
    "    :param count_from: Миниум диапазона количества.\n",
    "    :param count_to: Максимум диапазона количества.\n",
    "    :param dates_by_filter: Список дат для отфильтровывания.\n",
    "\n",
    "    :return: Датафрейм с отфильтрованными значениями.\n",
    "    \"\"\"\n",
    "    data_by_filter = df.loc[(df[\"hour\"] >= hour_from) & (df[\"hour\"] <= hour_to) & (df[\"count\"] >= count_from) & (df[\"count\"] <= count_to)]\n",
    "    if dates_by_filter:\n",
    "        data_by_filter = data_by_filter.loc[~data_by_filter[\"date\"].isin(dates_by_filter)]\n",
    "    dates_in_filtered = data_by_filter[\"date\"].unique() # Достаем уникальные значения даты.\n",
    "    filtered_data = df[df[\"date\"].isin(dates_in_filtered)] # Отфильтровываем необходимые данные.\n",
    "    return filtered_data"
   ]
  },
  {
   "cell_type": "markdown",
   "metadata": {},
   "source": [
    "## Строим график по получившимся данным:"
   ]
  },
  {
   "cell_type": "markdown",
   "metadata": {},
   "source": [
    "### Введите диапазон часов и диапазон количества:"
   ]
  },
  {
   "cell_type": "code",
   "execution_count": null,
   "metadata": {},
   "outputs": [],
   "source": [
    "hour_from = 10\n",
    "hour_to = 10\n",
    "count_from = 400000\n",
    "count_to = 700000\n",
    "filtered_data = data_filter_by_line(data_by_date, hour_from, hour_to, count_from, count_to)\n",
    "generate_line_plot(filtered_data)"
   ]
  },
  {
   "cell_type": "markdown",
   "metadata": {},
   "source": [
    "## Отфильтровываем выбросы:\n",
    "Каждый раз при запуске перезаписываюся данные переменной \"filtered_data\". Можно использовать несколько раз, меняя входные значения часов и количества. Чтобы начать фильтрацию сначала, выполните предыдущую ячейку."
   ]
  },
  {
   "cell_type": "code",
   "execution_count": null,
   "metadata": {},
   "outputs": [],
   "source": [
    "hour_from = 11\n",
    "hour_to = 11\n",
    "count_from = 400000\n",
    "count_to = 700000\n",
    "dates_by_filter = [] # В список можно добавить даты для фильтрации отдельных дней.\n",
    "\n",
    "filtered_data = data_filter_by_line(filtered_data, hour_from, hour_to, count_from, count_to, dates_by_filter)\n",
    "generate_line_plot(filtered_data)"
   ]
  },
  {
   "cell_type": "markdown",
   "metadata": {},
   "source": [
    "## Список дней участвующих в итоговой выборке:"
   ]
  },
  {
   "cell_type": "code",
   "execution_count": null,
   "metadata": {},
   "outputs": [],
   "source": [
    "filtered_data.date.unique()"
   ]
  },
  {
   "cell_type": "markdown",
   "metadata": {},
   "source": [
    "## Список дней не участвующих в итоговой выборке"
   ]
  },
  {
   "cell_type": "code",
   "execution_count": null,
   "metadata": {},
   "outputs": [],
   "source": [
    "data_by_date.loc[~data_by_date.date.isin(filtered_data.date.unique())][\"date\"].unique()"
   ]
  },
  {
   "cell_type": "markdown",
   "metadata": {},
   "source": [
    "# Определение пик-часа:"
   ]
  },
  {
   "cell_type": "markdown",
   "metadata": {},
   "source": [
    "## Распределение средней нагрузки по часам:"
   ]
  },
  {
   "cell_type": "code",
   "execution_count": null,
   "metadata": {},
   "outputs": [],
   "source": [
    "by_filter = filtered_data[\"date\"].unique() # Выбираем подходящие данные с прошлого шага\n",
    "result_data = data.loc[data[\"date\"].isin(by_filter)] # Получаем данные с которыми дальше работаем\n",
    "grouped = result_data.groupby([\"name\", \"hour\"])[\"count\"].mean().reset_index() # Средняя нагрузка по часам.\n",
    "grouped[\"count\"] = grouped[\"count\"].round().astype(\"int32\") # Округляем\n",
    "grouped.head()"
   ]
  },
  {
   "cell_type": "markdown",
   "metadata": {},
   "source": [
    "## Стоим графики:\n",
    "Графики показывают как распределялась средняя нагрузка по часам в выбранных ранее данных по каждому пользовательскому сценарию."
   ]
  },
  {
   "cell_type": "code",
   "execution_count": null,
   "metadata": {},
   "outputs": [],
   "source": [
    "g = sns.FacetGrid(data=grouped, col=\"name\", col_wrap=2, height=4, aspect=1.5, sharey=False, sharex=False)\n",
    "g.map(sns.barplot, \"hour\", \"count\", order=range(24))\n",
    "g.set_axis_labels(\"Часы\", \"Количество\")\n",
    "g.set_titles(\"{col_name}\")\n",
    "plt.tight_layout()\n",
    "plt.show()"
   ]
  },
  {
   "cell_type": "markdown",
   "metadata": {},
   "source": [
    "## Определение часа максимальной нагрузки для каждого UC:"
   ]
  },
  {
   "cell_type": "code",
   "execution_count": null,
   "metadata": {},
   "outputs": [],
   "source": [
    "max_hours = grouped.loc[grouped.groupby(\"name\")[\"count\"].idxmax()].reset_index(drop=True)\n",
    "max_hours.head()"
   ]
  },
  {
   "cell_type": "markdown",
   "metadata": {},
   "source": [
    "### Группируем по часам и смотрим у какого количества операций пик выпал на это время:"
   ]
  },
  {
   "cell_type": "code",
   "execution_count": null,
   "metadata": {},
   "outputs": [],
   "source": [
    "max_value_by_hours = max_hours[[\"hour\", \"count\"]].groupby(\"hour\").count().reset_index()\n",
    "sns.barplot(data=max_value_by_hours, x=\"hour\", y=\"count\", color=\"#1F77B4\")\n",
    "plt.xlabel(\"Часы\")\n",
    "plt.ylabel(\"Количество операций\")\n",
    "plt.show()"
   ]
  },
  {
   "cell_type": "markdown",
   "metadata": {},
   "source": [
    "### Ищем пиковый час сразу по всем операциям:"
   ]
  },
  {
   "cell_type": "code",
   "execution_count": null,
   "metadata": {},
   "outputs": [],
   "source": [
    "max_hours_all = grouped.groupby(\"hour\")[\"count\"].sum().reset_index()\n",
    "sns.barplot(data=max_hours_all, x=\"hour\", y=\"count\", color=\"#1F77B4\")\n",
    "plt.xlabel(\"Часы\")\n",
    "plt.ylabel(\"Количество операций\")\n",
    "plt.show()"
   ]
  },
  {
   "cell_type": "code",
   "execution_count": null,
   "metadata": {},
   "outputs": [],
   "source": [
    "maximum = max_hours_all[\"count\"].max() # Пролучаем максимальную частоту операций\n",
    "maximum_hour = max_hours_all[max_hours_all[\"count\"] == maximum][\"hour\"].min() # Час максимальной нагрузки.\n",
    "hours = max_hours_all.loc[ # Берем пик-час и до двух ближайших, если они подходят (больше 90% от пик-часа)\n",
    "    (max_hours_all[\"count\"] > maximum * 0.9) &\n",
    "    (\n",
    "        (max_hours_all[\"hour\"] == maximum_hour) |\n",
    "        (max_hours_all[\"hour\"] == maximum_hour - 1) |\n",
    "        (max_hours_all[\"hour\"] == maximum_hour + 1) \n",
    "    )\n",
    "][\"hour\"]\n",
    "result_grouped = grouped.loc[grouped[\"hour\"].isin(hours)].reset_index(drop=True) # Прогоняем через фильтр\n",
    "result_grouped = result_grouped.groupby(\"name\")[\"count\"].max().reset_index() # Берем максимум из каждого часа\n",
    "result_grouped"
   ]
  },
  {
   "cell_type": "markdown",
   "metadata": {},
   "source": [
    "### Смотрим, каких операций нет в итоговой выборке:"
   ]
  },
  {
   "cell_type": "code",
   "execution_count": null,
   "metadata": {},
   "outputs": [],
   "source": [
    "missing = grouped.loc[~grouped[\"name\"].isin(result_grouped[\"name\"])]\n",
    "missing[\"name\"].unique()"
   ]
  },
  {
   "cell_type": "markdown",
   "metadata": {},
   "source": [
    "# Формируем список операций:\n",
    "Сортируем их по убыванию количества. Добавляем колонку с накопленным итогом, чтобы отслеживать точность профиля нагрузки."
   ]
  },
  {
   "cell_type": "code",
   "execution_count": null,
   "metadata": {},
   "outputs": [],
   "source": [
    "all_operations = result_grouped.sort_values(by=\"count\", ascending=False).reset_index(drop=True)\n",
    "all_operations[\"percent\"] = (all_operations[\"count\"].cumsum() / all_operations[\"count\"].sum()) * 100\n",
    "all_operations[\"percent\"] = all_operations[\"percent\"].round(2)\n",
    "all_operations"
   ]
  },
  {
   "cell_type": "markdown",
   "metadata": {},
   "source": [
    "## Необходимые операции для соответствия профилю:\n",
    "На данном этапе оставляем операции, которые подходят под требования точности профиля. Также здесь можно добавить критичные и тяжелые операции, которые необходимо включить в профиль. Кроме того, здесь можно указать минимальное количество операций для попадания в профиль нагрузки."
   ]
  },
  {
   "cell_type": "code",
   "execution_count": null,
   "metadata": {},
   "outputs": [],
   "source": [
    "accuracy = 98 # Минимальный процент точности профиля.\n",
    "critical_operations = [] # Список критичных операций.\n",
    "heavy_operations = [] # Список тяжелых операций.\n",
    "min_count = 0 # Минимальное количество операций в час для попадания в профиль.\n",
    "\n",
    "profile = all_operations.loc[(all_operations[\"percent\"].round() <= accuracy) | (all_operations[\"name\"].isin(critical_operations)) | (all_operations[\"name\"].isin(heavy_operations))]\n",
    "profile = profile[[\"name\", \"count\"]].reset_index(drop=True)\n",
    "profile = profile[profile[\"count\"] >= min_count]\n",
    "profile"
   ]
  },
  {
   "cell_type": "markdown",
   "metadata": {},
   "source": [
    "# Итоговый профиль для подачи нагрузки:"
   ]
  },
  {
   "cell_type": "code",
   "execution_count": null,
   "metadata": {},
   "outputs": [],
   "source": [
    "profile[\"percent\"] = (profile[\"count\"] / profile[\"count\"].sum()) * 100\n",
    "profile[\"percent\"] = profile[\"percent\"].round(2)\n",
    "profile"
   ]
  },
  {
   "cell_type": "markdown",
   "metadata": {},
   "source": [
    "## Диаграмма количества операций:"
   ]
  },
  {
   "cell_type": "code",
   "execution_count": null,
   "metadata": {},
   "outputs": [],
   "source": [
    "plt.pie(profile[\"count\"], radius=1.3, textprops={\"fontsize\": 13})\n",
    "plt.legend(\n",
    "    labels=profile[\"name\"],\n",
    "    loc=\"lower center\",\n",
    "    bbox_to_anchor=(0.5, -0.15),\n",
    "    ncol=4 # Количество столбцов в легенде\n",
    ")\n",
    "plt.show()"
   ]
  },
  {
   "cell_type": "markdown",
   "metadata": {},
   "source": [
    "## Сохранение итоговой таблицы в файл:"
   ]
  },
  {
   "cell_type": "code",
   "execution_count": null,
   "metadata": {},
   "outputs": [],
   "source": [
    "profile.to_csv(\"load_profile.csv\", index=False, sep=\",\")"
   ]
  }
 ],
 "metadata": {
  "kernelspec": {
   "display_name": "Python 3 (ipykernel)",
   "language": "python",
   "name": "python3"
  },
  "language_info": {
   "codemirror_mode": {
    "name": "ipython",
    "version": 3
   },
   "file_extension": ".py",
   "mimetype": "text/x-python",
   "name": "python",
   "nbconvert_exporter": "python",
   "pygments_lexer": "ipython3",
   "version": "3.12.7"
  }
 },
 "nbformat": 4,
 "nbformat_minor": 4
}
